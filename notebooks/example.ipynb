{
 "cells": [
  {
   "cell_type": "code",
   "execution_count": 1,
   "metadata": {},
   "outputs": [],
   "source": [
    "from gugong import GuGong\n",
    "from gugong.proto import gugong_pb2 as ggpb2"
   ]
  },
  {
   "cell_type": "code",
   "execution_count": 43,
   "metadata": {},
   "outputs": [],
   "source": [
    "gg = GuGong()"
   ]
  },
  {
   "cell_type": "code",
   "execution_count": 44,
   "metadata": {},
   "outputs": [
    {
     "data": {
      "text/plain": [
       "'故宫'"
      ]
     },
     "execution_count": 44,
     "metadata": {},
     "output_type": "execute_result"
    }
   ],
   "source": [
    "gg.name"
   ]
  },
  {
   "cell_type": "code",
   "execution_count": 4,
   "metadata": {},
   "outputs": [
    {
     "name": "stdout",
     "output_type": "stream",
     "text": [
      "午门\n",
      "神武门\n",
      "东华门\n",
      "西华门\n",
      "太和门\n",
      "熙和门\n",
      "协和门\n",
      "乾清门\n",
      "景运门\n",
      "隆宗门\n",
      "坤宁门\n",
      "天一门\n",
      "顺贞门\n",
      "麟趾门\n",
      "苍震门\n",
      "螽斯门\n",
      "锡庆门\n",
      "皇极门\n",
      "宁寿门\n",
      "慈宁门\n"
     ]
    }
   ],
   "source": [
    "# 故宫里有哪些门\n",
    "\n",
    "for place in gg.places:\n",
    "    if place.arch_type == ggpb2.MEN:\n",
    "        print(place.name)\n"
   ]
  },
  {
   "cell_type": "code",
   "execution_count": 5,
   "metadata": {},
   "outputs": [
    {
     "name": "stdout",
     "output_type": "stream",
     "text": [
      "太和殿\n",
      "中和殿\n",
      "保和殿\n",
      "保和殿\n",
      "文华殿\n",
      "武英殿\n",
      "交泰殿\n",
      "钦安殿\n",
      "奉先殿\n",
      "养心殿\n",
      "太极殿\n",
      "皇极殿\n",
      "养性殿\n",
      "宝华殿\n",
      "宝华殿\n",
      "传心殿\n",
      "南薰殿\n",
      "昭仁殿\n",
      "弘德殿\n",
      "天穹宝殿\n",
      "体元殿\n",
      "体和殿\n",
      "英华殿\n"
     ]
    }
   ],
   "source": [
    "# 故宫里有哪些殿\n",
    "\n",
    "for place in gg.places:\n",
    "    if place.arch_type == ggpb2.DIAN:\n",
    "        print(place.name)\n"
   ]
  },
  {
   "cell_type": "code",
   "execution_count": 6,
   "metadata": {},
   "outputs": [
    {
     "name": "stdout",
     "output_type": "stream",
     "text": [
      "乾清宫\n",
      "坤宁宫\n",
      "斋宫\n",
      "延禧宫\n",
      "景仁宫\n",
      "永和宫\n",
      "承乾宫\n",
      "景阳宫\n",
      "钟粹宫\n",
      "翊坤宫\n",
      "长春宫\n",
      "储秀宫\n",
      "咸福宫\n",
      "重华宫\n",
      "永寿宫\n",
      "宁寿宫\n",
      "慈宁宫\n",
      "寿康宫\n",
      "咸安宫\n",
      "毓庆宫\n",
      "建福宫\n",
      "景福宫\n",
      "寿安宫\n"
     ]
    }
   ],
   "source": [
    "# 故宫里有哪些宫\n",
    "\n",
    "for place in gg.places:\n",
    "    if place.arch_type == ggpb2.GONG:\n",
    "        print(place.name)\n"
   ]
  },
  {
   "cell_type": "code",
   "execution_count": 7,
   "metadata": {},
   "outputs": [
    {
     "name": "stdout",
     "output_type": "stream",
     "text": [
      "朱棣\n",
      "朱高炽\n",
      "朱瞻基\n",
      "朱祁镇\n",
      "朱祁钰\n",
      "朱见深\n",
      "朱佑樘\n",
      "朱厚照\n",
      "朱厚熜\n",
      "朱载垕\n",
      "朱翊钧\n",
      "朱常洛\n",
      "朱由校\n",
      "朱由检\n",
      "爱新觉罗·福临\n",
      "爱新觉罗·玄烨\n",
      "爱新觉罗·胤禛\n",
      "爱新觉罗·弘历\n",
      "爱新觉罗·顒琰\n",
      "爱新觉罗·旻宁\n",
      "爱新觉罗·奕詝\n",
      "爱新觉罗·载淳\n",
      "爱新觉罗·载湉\n",
      "爱新觉罗·溥仪\n"
     ]
    }
   ],
   "source": [
    "# 故宫里住过哪些皇帝?\n",
    "\n",
    "for empire in gg.empires:\n",
    "    print(empire.name)"
   ]
  },
  {
   "cell_type": "code",
   "execution_count": 8,
   "metadata": {},
   "outputs": [],
   "source": [
    "# 哪个皇帝在位时间最长？显然是康熙\n",
    "\n",
    "from gugong.models.db import Empire"
   ]
  },
  {
   "cell_type": "code",
   "execution_count": 36,
   "metadata": {},
   "outputs": [
    {
     "name": "stdout",
     "output_type": "stream",
     "text": [
      "康熙 爱新觉罗·玄烨 61\n"
     ]
    }
   ],
   "source": [
    "queries = Empire.select().order_by(Empire.years_in_position.desc()).limit(1)\n",
    "\n",
    "for empire in queries:\n",
    "    print(empire.epoch_name, empire.name, empire.years_in_position)"
   ]
  },
  {
   "cell_type": "code",
   "execution_count": 38,
   "metadata": {},
   "outputs": [
    {
     "name": "stdout",
     "output_type": "stream",
     "text": [
      "康熙 爱新觉罗·玄烨 61\n",
      "乾隆 爱新觉罗·弘历 60\n",
      "万历 朱翊钧 48\n",
      "嘉靖 朱厚熜 45\n",
      "光绪 爱新觉罗·载湉 34\n",
      "道光 爱新觉罗·旻宁 30\n",
      "嘉庆 爱新觉罗·顒琰 25\n",
      "成化 朱见深 23\n",
      "永乐 朱棣 22\n"
     ]
    }
   ],
   "source": [
    "# 故宫里的哪些皇帝在位时间超过20年\n",
    "\n",
    "queries = Empire.select().where(Empire.years_in_position > 20).order_by(Empire.years_in_position.desc())\n",
    "\n",
    "for empire in queries:\n",
    "    print(empire.epoch_name, empire.name, empire.years_in_position)"
   ]
  },
  {
   "cell_type": "code",
   "execution_count": 42,
   "metadata": {},
   "outputs": [
    {
     "name": "stdout",
     "output_type": "stream",
     "text": [
      "宣统 爱新觉罗·溥仪 3\n",
      "洪熙 朱高炽 1\n",
      "泰昌 朱常洛 1\n"
     ]
    }
   ],
   "source": [
    "# 故宫里的哪些皇帝在位时间不超过5年\n",
    "\n",
    "queries = Empire.select().where(Empire.years_in_position < 5).order_by(Empire.years_in_position.desc())\n",
    "\n",
    "for empire in queries:\n",
    "    print(empire.epoch_name, empire.name, empire.years_in_position)"
   ]
  }
 ],
 "metadata": {
  "kernelspec": {
   "display_name": "Python 3",
   "language": "python",
   "name": "python3"
  },
  "language_info": {
   "codemirror_mode": {
    "name": "ipython",
    "version": 3
   },
   "file_extension": ".py",
   "mimetype": "text/x-python",
   "name": "python",
   "nbconvert_exporter": "python",
   "pygments_lexer": "ipython3",
   "version": "3.7.3"
  }
 },
 "nbformat": 4,
 "nbformat_minor": 2
}
